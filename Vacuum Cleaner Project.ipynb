{
 "cells": [
  {
   "cell_type": "code",
   "execution_count": null,
   "metadata": {},
   "outputs": [
    {
     "name": "stdout",
     "output_type": "stream",
     "text": [
      "I am at A\n",
      "A is Dirty\n",
      "B is Dirty\n",
      "Available actions are Left, Right, Suck, NoOp, Show state\n",
      "Command is: Right\n",
      "I am at B\n",
      "A is Dirty\n",
      "B is Dirty\n",
      "Command is: Left\n",
      "I am at A\n",
      "A is Dirty\n",
      "B is Dirty\n",
      "Command is: Suck\n",
      "I am at A\n",
      "A is Clean\n",
      "B is Dirty\n",
      "Command is: Right\n",
      "I am at B\n",
      "A is Clean\n",
      "B is Dirty\n",
      "Command is: Suck\n",
      "I am at B\n",
      "A is Clean\n",
      "B is Clean\n",
      "Command is: NoOp\n",
      "I am at B\n",
      "A is Clean\n",
      "B is Clean\n",
      "Command is: Show state\n",
      "I am at B\n",
      "A is Clean\n",
      "B is Clean\n",
      "Command is: \n",
      "Please enter an available command!\n"
     ]
    }
   ],
   "source": [
    "def show_position(curr_pos,A,B):\n",
    "    print(\"I am at \" + curr_pos + \"\\nA is \" + A + \"\\nB is \" + B )\n",
    "    \n",
    "curr_pos = \"A\" #default position of the cleaner\n",
    "A = \"Dirty\"\n",
    "B = \"Dirty\" # default status\n",
    "\n",
    "show_position(curr_pos,A,B)\n",
    "\n",
    "\n",
    "print('Available actions are Left, Right, Suck, NoOp, Show state') #show all actions that are available for the user\n",
    "command = input(\"Command is: \") #take the command from the user\n",
    "\n",
    "\n",
    "while command != []: #execute until command line is not empty\n",
    "    if command == \"Left\": \n",
    "        if curr_pos == \"B\": \n",
    "            curr_pos= \"A\" #if curr pos of cleaner is B change it to position A\n",
    "        show_position(curr_pos,A,B) \n",
    "\n",
    "    elif command == \"Right\": \n",
    "        if curr_pos ==\"A\":\n",
    "            curr_pos=\"B\" #if curr pos of cleaner is A change it to B\n",
    "        show_position(curr_pos,A,B)\n",
    "   \n",
    "    elif command == \"Suck\":\n",
    "        if curr_pos == \"A\":\n",
    "            A = \"Clean\"  #if curr pos of cleaner is A than clean that room and change its status to Clean\n",
    "        if curr_pos == \"B\":\n",
    "            B = \"Clean\"  #if curr pos of cleaner is B than clean that room and change its status to Clean\n",
    "        show_position(curr_pos,A,B)\n",
    "  \n",
    "\n",
    "    elif command == \"NoOp\":\n",
    "        show_position(curr_pos,A,B) #just print the current position\n",
    "\n",
    "    elif command == \"Show state\": #current position of cleaner and rooms\n",
    "        show_position(curr_pos,A,B)\n",
    "\n",
    "    else: \n",
    "        print(\"Please enter an available command!\") \n",
    "        command = input(\"Command is: \") \n",
    "\n",
    "    command = input(\"Command is: \") #ask the command after every operation done\n",
    "else:\n",
    "    pass"
   ]
  },
  {
   "cell_type": "code",
   "execution_count": null,
   "metadata": {},
   "outputs": [],
   "source": []
  }
 ],
 "metadata": {
  "kernelspec": {
   "display_name": "Python 3",
   "language": "python",
   "name": "python3"
  },
  "language_info": {
   "codemirror_mode": {
    "name": "ipython",
    "version": 3
   },
   "file_extension": ".py",
   "mimetype": "text/x-python",
   "name": "python",
   "nbconvert_exporter": "python",
   "pygments_lexer": "ipython3",
   "version": "3.7.4"
  }
 },
 "nbformat": 4,
 "nbformat_minor": 2
}
